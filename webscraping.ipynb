{
 "cells": [
  {
   "cell_type": "code",
   "execution_count": 1,
   "metadata": {},
   "outputs": [
    {
     "name": "stdout",
     "output_type": "stream",
     "text": [
      "Result: Central bankers move slowly through fog of Trump’s trade wars Monetary policymakers are being knocked off course by the twists and turns of White House policy, with markets paring back interest-rate cut expectations across the globe [LONDON, FRANKFURT, WASHINGTON, HONG KONG] US President Donald Trump has already upended global trade and the postwar international security consensus. Now he’s throwing central banking into disarray. Monetary policymakers are being knocked off course by the twists and turns of White House policy, with markets paring back interest-rate cut expectations across the globe. No longer are central bankers “either the frontmen or rhythm-keepers of macro policy”, said Thierry Wizman, a strategist at Macquarie. “They are now followers, who are ceding their dynamism to events in federal legislatures, executive mansions and diplomatic halls.” US Federal Reserve chair Jerome Powell stressed the uncertainty of the outlook as he kept US rates unchanged on Wednesday, two weeks before Trump is expected to unleash a wave of so-called reciprocal tariffs. The Bank of England (BOE) then dropped its rate-cutting bias on Thursday (Mar 20) and Sweden’s Riksbank declared its easing cycle was over – citing the complexity of the international backdrop. “It is incredibly difficult to say where interest rates are going to move,” said European Central Bank (ECB) governing council member Klaas Knot. He cited the difficulty of predicting whether eurozone inflation moves up or down as a result of tariffs and retaliatory measures, along with a ramp up in spending on infrastructure and defence across the bloc. For the moment, the safest path for central banks is to put policy on ice. The murkier the future has become, the more it pays to wait and see. “Soaring trade policy uncertainty has become a key concern for central banks, as it risks weakening economic activity substantially,” said Maxime Darmet, a senior economist at Allianz Trade. “The nasty combination of elevated trade policy uncertainty and high inflation put them in a tricky position.” BT in your inbox Start and end each day with the latest news stories and analyses delivered straight to your inbox. Thursday’s shift at the BOE away from its dovish stance – despite little change to economic conditions – was a demonstration of the new approach. Rates were held at 4.5 per cent, as forecast, but only one member voted for a cut, rather than the two or three expected. Domestic factors played a part – sticky UK wage growth remains a concern – but the BOE chose to emphasise international risks. Uncertainty, or a variation of the word, was mentioned in the minutes of the BOE meeting 15 times – more than twice as many as at the previous meeting six weeks earlier. The same sentiment can be found across the world. The Riksbank held rates and signalled its easing cycle was done, offering support for this year’s krona rally. Persistent food inflation was a major factor but it also noted that “uncertainty abroad is unusually high”. Kyle Chapman, FX markets analyst at Ballinger Group, said the Riksbank “really stands out in a sea of central banks paralysed by uncertainty right now”. The Swiss National Bank bucked the trend by cutting rates on Thursday to relieve some of the upward pressure on the currency, which is seen a safe haven in times of turbulence. Still, it signalled further reductions were unlikely. ‘Phenomenal’ Uncertainty Tariffs weighed heavily on central banks in Japan, Indonesia and Taiwan, all of which kept rates unchanged this week. “It’s difficult to judge how much closer we are to achieving our goal when uncertainties over the US and overseas trade policies are high,” Bank of Japan governor Kazuo Ueda told reporters after the decision. Chinese banks also kept borrowing costs the same for a fifth straight month. The ECB cut rates earlier this month, but traders have pared bets on more action and are now almost equally torn between a cut and a pause at the Apr 16 to 17 gathering. President Christine Lagarde reiterated on Thursday that a “meeting-by-meeting” approach remains the safest option given the “far-reaching implications” of White House policies. While Lagarde herself described the uncertainty as “huge” following the Governing Council’s latest meeting, she reported that some of her colleagues had labelled it “phenomenal”. Trump has hit Mexico, Canada, China and the European Union with tariffs, prompting retaliation. Lurking in the wings, though, is an even bigger risk – a worldwide programme of reciprocal tariffs that would rebalance the global trading system. Trump has promised a decision on that on Apr 2. The reordering of international defence pacts, such as the Nato alliance, adds another layer of jeopardy. European nations, Germany in particular, are preparing to borrow hundreds of billions of euros to rearm, with implications for markets that will have to finance the programmes. After holding rates on Wednesday, Fed chief Powell underscored the need to wait for greater clarity on the Trump administration’s policies – including tariffs – before adjusting rates. Updated projections showed the vast majority of Fed officials saw higher uncertainty around their latest forecasts for growth, inflation and unemployment. Political upheaval is muddying the outlook everywhere. The Organisation for Economic Cooperation and Development downgraded its global growth outlook for this year and next due to the higher trade barriers caused by tariffs and the policy uncertainty around their implementation. Weaker growth would generally suggest faster rate cuts – but tariffs might also prove inflationary, to which the response may be higher rates. Trump, trigger of the tumult, has his own solution for central bank uncertainty. “The Fed would be MUCH better off CUTTING RATES as US Tariffs start to transition (ease!) their way into the economy,” Trump said in a Wednesday post on Truth Social. “Do the right thing. April 2nd is Liberation Day in America!!!” BLOOMBERG Share with us your feedback on BT's products and services more in International - Thailand may yet embark on region’s most aggressive rate cuts- Mar 21, 2025 08:52 AM  - Japan’s core inflation hits 3% in February, keeps alive BOJ rate-hike bets- Mar 21, 2025 08:19 AM  - Canada PM Carney to call April 28 snap election- Mar 21, 2025 07:20 AM  - BYD vows to conquer Europe with new model, fast-charging capability- Mar 21, 2025 07:01 AM  - Trump trade upheaval leaves foreign central banks guessing- Mar 21, 2025 06:36 AM  - FCA fines LME £9.2 million for failings during nickel crisis- Mar 20, 2025 08:45 PM  - CK Hutchison warns of geopolitical risks as profit falls and ports deal upsets China- Mar 20, 2025 06:04 PM\n",
      "Publication Date: 21-03-2025\n"
     ]
    }
   ],
   "source": [
    "import trafilatura\n",
    "import json\n",
    "import dateparser\n",
    "\n",
    "def extract_article(url):\n",
    "    \"\"\"\n",
    "    Extracts article content and publication date from a given URL using Trafilatura.\n",
    "    \"\"\"\n",
    "    try:\n",
    "        # Download HTML\n",
    "        downloaded_html = trafilatura.fetch_url(url)\n",
    "        if not downloaded_html:\n",
    "            raise ValueError(\"Failed to download content\")\n",
    "\n",
    "        # Extract article content and metadata in JSON format\n",
    "        extracted = trafilatura.extract(downloaded_html, output_format=\"json\", with_metadata=True)\n",
    "        if not extracted:\n",
    "            raise ValueError(\"Trafilatura extraction failed\")\n",
    "\n",
    "        # Convert JSON string to dictionary\n",
    "        data = json.loads(extracted)\n",
    "\n",
    "        # Get article text and publication date\n",
    "        content = data.get(\"text\", \"\").strip()\n",
    "        publish_date_str = data.get(\"date\", None)\n",
    "        publish_date = dateparser.parse(publish_date_str) if publish_date_str else None\n",
    "\n",
    "        # Validate extracted content\n",
    "        if not content or len(content) < 200:\n",
    "            raise ValueError(\"Content extraction incomplete\")\n",
    "\n",
    "    except Exception as e:\n",
    "        return {\"content\": \"\", \"publish_date\": None}\n",
    "\n",
    "    # Format publication date\n",
    "    formatted_date = publish_date.strftime(\"%d-%m-%Y\") if publish_date else None\n",
    "\n",
    "    return {\"content\": content, \"publish_date\": formatted_date}\n",
    "\n",
    "# Example usage:\n",
    "url = \"https://www.businesstimes.com.sg/international/central-bankers-move-slowly-through-fog-trumps-trade-wars\"\n",
    "result = extract_article(url)\n",
    "\n",
    "# Clean output\n",
    "result_content_clean = result[\"content\"].replace(\"\\n\", \" \") if result[\"content\"] else \"No content extracted\"\n",
    "print(\"Result:\", result_content_clean)\n",
    "print(\"Publication Date:\", result[\"publish_date\"])"
   ]
  }
 ],
 "metadata": {
  "kernelspec": {
   "display_name": "venv",
   "language": "python",
   "name": "python3"
  },
  "language_info": {
   "codemirror_mode": {
    "name": "ipython",
    "version": 3
   },
   "file_extension": ".py",
   "mimetype": "text/x-python",
   "name": "python",
   "nbconvert_exporter": "python",
   "pygments_lexer": "ipython3",
   "version": "3.10.9"
  }
 },
 "nbformat": 4,
 "nbformat_minor": 2
}
