{
 "cells": [
  {
   "cell_type": "markdown",
   "metadata": {},
   "source": [
    "## VAR model for benchmark performance"
   ]
  },
  {
   "cell_type": "markdown",
   "metadata": {},
   "source": [
    "### import statements"
   ]
  },
  {
   "cell_type": "code",
   "execution_count": 4,
   "metadata": {},
   "outputs": [],
   "source": [
    "import pandas as pd\n",
    "import numpy as np\n",
    "import matplotlib.pyplot as plt\n",
    "from sklearn.model_selection import train_test_split\n",
    "from sklearn.metrics import mean_squared_error, r2_score\n",
    "from statsmodels.tsa.api import VAR\n",
    "from statsmodels.tsa.stattools import adfuller"
   ]
  },
  {
   "cell_type": "markdown",
   "metadata": {},
   "source": [
    "## initialising data"
   ]
  },
  {
   "cell_type": "code",
   "execution_count": null,
   "metadata": {},
   "outputs": [],
   "source": [
    "# Synthetic data generation\n",
    "np.random.seed(0)\n",
    "date_range = pd.date_range(\"2020-01-01\", periods=40, freq=\"M\")\n",
    "\n",
    "df = pd.DataFrame({\n",
    "    \"Export\": np.random.normal(100, 10, 40).cumsum(),  # some random walk style\n",
    "    \"Import\": np.random.normal(80, 8, 40).cumsum(),\n",
    "    \"Feature1\": np.random.normal(50, 5, 40).cumsum(),\n",
    "    \"Feature2\": np.random.normal(30, 3, 40).cumsum(),\n",
    "    \"Feature3\": np.random.normal(60, 6, 40).cumsum()\n",
    "}, index=date_range)\n",
    "\n",
    "df.head()"
   ]
  },
  {
   "cell_type": "code",
   "execution_count": null,
   "metadata": {},
   "outputs": [],
   "source": [
    "def adf_test(series, title=''):\n",
    "    \"\"\"Perform ADF test and print results.\"\"\"\n",
    "    print(f'Augmented Dickey-Fuller Test: {title}')\n",
    "    result = adfuller(series.dropna(), autolag='AIC')\n",
    "    labels = ['ADF Statistic', 'p-value', '# Lags Used', '# Observations Used']\n",
    "    out = dict(zip(labels, result[0:4]))\n",
    "    for key, val in out.items():\n",
    "        print(f\"   {key}: {val}\")\n",
    "    for key, val in result[4].items():\n",
    "        print(f\"   Critical Value {key}: {val}\")\n",
    "    print(\"\")\n",
    "\n",
    "# Example: check stationarity for each column\n",
    "for col in df.columns:\n",
    "    adf_test(df[col], title=col)\n",
    "\n",
    "# If non-stationary, consider differencing\n",
    "df_diff = df.diff().dropna()\n",
    "\n",
    "# Re-check with ADF after differencing\n",
    "for col in df_diff.columns:\n",
    "    adf_test(df_diff[col], title=col)"
   ]
  },
  {
   "cell_type": "code",
   "execution_count": null,
   "metadata": {},
   "outputs": [],
   "source": [
    "train_size = int(0.8 * len(df_diff))  # e.g., 80% training\n",
    "train_data = df_diff.iloc[:train_size]\n",
    "test_data = df_diff.iloc[train_size:]"
   ]
  },
  {
   "cell_type": "code",
   "execution_count": null,
   "metadata": {},
   "outputs": [],
   "source": [
    "# 5a. Determine optimal lag order\n",
    "model = VAR(endog=train_data)\n",
    "results = model.select_order(maxlags=5)  # test up to 5 lags\n",
    "selected_lag = results.selected_orders['aic']  # or 'bic', 'hqic', 'fpe'\n",
    "print(\"Selected Lag Order by AIC:\", selected_lag)\n",
    "\n",
    "# 5b. Fit the final model\n",
    "var_model = VAR(endog=train_data)\n",
    "var_results = var_model.fit(selected_lag)\n",
    "print(var_results.summary())"
   ]
  },
  {
   "cell_type": "code",
   "execution_count": null,
   "metadata": {},
   "outputs": [],
   "source": [
    "# Forecast length is the size of your test set\n",
    "forecast_steps = len(test_data)\n",
    "\n",
    "# Obtain forecast\n",
    "forecast_values = var_results.forecast(\n",
    "    y=train_data.values[-selected_lag:], \n",
    "    steps=forecast_steps\n",
    ")\n",
    "\n",
    "# Wrap forecast into a DataFrame\n",
    "forecast_index = test_data.index\n",
    "forecast_df = pd.DataFrame(forecast_values, \n",
    "                           index=forecast_index, \n",
    "                           columns=[f\"{col}_forecast\" for col in df_diff.columns])\n",
    "\n",
    "# Because we used differenced data, \n",
    "#   forecast_df must be integrated back (cumulative sum + last known level).\n",
    "#   We'll demonstrate how with a loop.\n",
    "recovered_forecast = df.iloc[train_size:selected_lag+train_size].copy()  # anchor\n",
    "for t in range(forecast_steps):\n",
    "    # Add differenced forecast to last known value\n",
    "    next_vals = recovered_forecast.iloc[-1] + forecast_df.iloc[t]\n",
    "    recovered_forecast = pd.concat([recovered_forecast, pd.DataFrame([next_vals], index=[forecast_df.index[t]])])\n",
    "\n",
    "# recovered_forecast now holds the \"levels\" forecasts from differenced data\n",
    "final_forecast = recovered_forecast.iloc[selected_lag:]  # skip the anchor rows\n",
    "\n",
    "# Extract only forecast columns\n",
    "final_forecast = final_forecast[df.columns]  # align columns"
   ]
  },
  {
   "cell_type": "code",
   "execution_count": null,
   "metadata": {},
   "outputs": [],
   "source": [
    "from sklearn.metrics import mean_absolute_error, mean_squared_error\n",
    "\n",
    "# Align true values and forecasts\n",
    "actual = df.loc[test_data.index, :]  # the actual values in the original scale\n",
    "preds = final_forecast.loc[test_data.index, :]\n",
    "\n",
    "mae_export = mean_absolute_error(actual[\"Export\"], preds[\"Export\"])\n",
    "mae_import = mean_absolute_error(actual[\"Import\"], preds[\"Import\"])\n",
    "\n",
    "mse_export = mean_squared_error(actual[\"Export\"], preds[\"Export\"])\n",
    "mse_import = mean_squared_error(actual[\"Import\"], preds[\"Import\"])\n",
    "\n",
    "print(\"MAE (Export):\", mae_export)\n",
    "print(\"MAE (Import):\", mae_import)\n",
    "print(\"MSE (Export):\", mse_export)\n",
    "print(\"MSE (Import):\", mse_import)"
   ]
  }
 ],
 "metadata": {
  "kernelspec": {
   "display_name": "venv",
   "language": "python",
   "name": "python3"
  },
  "language_info": {
   "codemirror_mode": {
    "name": "ipython",
    "version": 3
   },
   "file_extension": ".py",
   "mimetype": "text/x-python",
   "name": "python",
   "nbconvert_exporter": "python",
   "pygments_lexer": "ipython3",
   "version": "3.12.0"
  }
 },
 "nbformat": 4,
 "nbformat_minor": 2
}
